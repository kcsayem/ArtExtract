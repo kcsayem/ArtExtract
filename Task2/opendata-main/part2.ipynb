{
 "cells": [
  {
   "cell_type": "code",
   "execution_count": 1,
   "metadata": {},
   "outputs": [],
   "source": [
    "import pandas as pd"
   ]
  },
  {
   "cell_type": "code",
   "execution_count": 2,
   "metadata": {},
   "outputs": [
    {
     "data": {
      "text/html": [
       "<div>\n",
       "<style scoped>\n",
       "    .dataframe tbody tr th:only-of-type {\n",
       "        vertical-align: middle;\n",
       "    }\n",
       "\n",
       "    .dataframe tbody tr th {\n",
       "        vertical-align: top;\n",
       "    }\n",
       "\n",
       "    .dataframe thead th {\n",
       "        text-align: right;\n",
       "    }\n",
       "</style>\n",
       "<table border=\"1\" class=\"dataframe\">\n",
       "  <thead>\n",
       "    <tr style=\"text-align: right;\">\n",
       "      <th></th>\n",
       "      <th>uuid</th>\n",
       "      <th>iiifurl</th>\n",
       "      <th>iiifthumburl</th>\n",
       "      <th>viewtype</th>\n",
       "      <th>sequence</th>\n",
       "      <th>width</th>\n",
       "      <th>height</th>\n",
       "      <th>maxpixels</th>\n",
       "      <th>created</th>\n",
       "      <th>modified</th>\n",
       "      <th>depictstmsobjectid</th>\n",
       "      <th>assistivetext</th>\n",
       "    </tr>\n",
       "  </thead>\n",
       "  <tbody>\n",
       "    <tr>\n",
       "      <th>0</th>\n",
       "      <td>00007f61-4922-417b-8f27-893ea328206c</td>\n",
       "      <td>https://api.nga.gov/iiif/00007f61-4922-417b-8f...</td>\n",
       "      <td>https://api.nga.gov/iiif/00007f61-4922-417b-8f...</td>\n",
       "      <td>primary</td>\n",
       "      <td>0.0</td>\n",
       "      <td>3365</td>\n",
       "      <td>4332</td>\n",
       "      <td>NaN</td>\n",
       "      <td>2013-07-05 15:41:08-04</td>\n",
       "      <td>2023-07-27 12:06:38-04</td>\n",
       "      <td>17387</td>\n",
       "      <td>NaN</td>\n",
       "    </tr>\n",
       "    <tr>\n",
       "      <th>1</th>\n",
       "      <td>0000bd8c-39de-4453-b55d-5e28a9beed38</td>\n",
       "      <td>https://api.nga.gov/iiif/0000bd8c-39de-4453-b5...</td>\n",
       "      <td>https://api.nga.gov/iiif/0000bd8c-39de-4453-b5...</td>\n",
       "      <td>primary</td>\n",
       "      <td>0.0</td>\n",
       "      <td>3500</td>\n",
       "      <td>4688</td>\n",
       "      <td>NaN</td>\n",
       "      <td>2013-08-05 14:31:59-04</td>\n",
       "      <td>2023-07-27 12:11:57-04</td>\n",
       "      <td>19245</td>\n",
       "      <td>NaN</td>\n",
       "    </tr>\n",
       "    <tr>\n",
       "      <th>2</th>\n",
       "      <td>0001668a-dd1c-48e8-9267-b6d1697d43c8</td>\n",
       "      <td>https://api.nga.gov/iiif/0001668a-dd1c-48e8-92...</td>\n",
       "      <td>https://api.nga.gov/iiif/0001668a-dd1c-48e8-92...</td>\n",
       "      <td>primary</td>\n",
       "      <td>0.0</td>\n",
       "      <td>3446</td>\n",
       "      <td>4448</td>\n",
       "      <td>NaN</td>\n",
       "      <td>2014-01-02 14:50:50-05</td>\n",
       "      <td>2023-07-27 12:39:11-04</td>\n",
       "      <td>23830</td>\n",
       "      <td>NaN</td>\n",
       "    </tr>\n",
       "    <tr>\n",
       "      <th>3</th>\n",
       "      <td>00032658-8a7a-44e3-8bb8-df8c172f521d</td>\n",
       "      <td>https://api.nga.gov/iiif/00032658-8a7a-44e3-8b...</td>\n",
       "      <td>https://api.nga.gov/iiif/00032658-8a7a-44e3-8b...</td>\n",
       "      <td>primary</td>\n",
       "      <td>0.0</td>\n",
       "      <td>2674</td>\n",
       "      <td>3798</td>\n",
       "      <td>NaN</td>\n",
       "      <td>2010-10-13 15:37:25-04</td>\n",
       "      <td>2023-07-27 15:51:54-04</td>\n",
       "      <td>713</td>\n",
       "      <td>NaN</td>\n",
       "    </tr>\n",
       "    <tr>\n",
       "      <th>4</th>\n",
       "      <td>0003d4e4-d7fd-4835-8d27-1e9e20672e39</td>\n",
       "      <td>https://api.nga.gov/iiif/0003d4e4-d7fd-4835-8d...</td>\n",
       "      <td>https://api.nga.gov/iiif/0003d4e4-d7fd-4835-8d...</td>\n",
       "      <td>primary</td>\n",
       "      <td>0.0</td>\n",
       "      <td>3000</td>\n",
       "      <td>2648</td>\n",
       "      <td>640.0</td>\n",
       "      <td>2014-11-19 14:24:42-05</td>\n",
       "      <td>2023-11-07 14:13:17-05</td>\n",
       "      <td>71457</td>\n",
       "      <td>NaN</td>\n",
       "    </tr>\n",
       "  </tbody>\n",
       "</table>\n",
       "</div>"
      ],
      "text/plain": [
       "                                   uuid  \\\n",
       "0  00007f61-4922-417b-8f27-893ea328206c   \n",
       "1  0000bd8c-39de-4453-b55d-5e28a9beed38   \n",
       "2  0001668a-dd1c-48e8-9267-b6d1697d43c8   \n",
       "3  00032658-8a7a-44e3-8bb8-df8c172f521d   \n",
       "4  0003d4e4-d7fd-4835-8d27-1e9e20672e39   \n",
       "\n",
       "                                             iiifurl  \\\n",
       "0  https://api.nga.gov/iiif/00007f61-4922-417b-8f...   \n",
       "1  https://api.nga.gov/iiif/0000bd8c-39de-4453-b5...   \n",
       "2  https://api.nga.gov/iiif/0001668a-dd1c-48e8-92...   \n",
       "3  https://api.nga.gov/iiif/00032658-8a7a-44e3-8b...   \n",
       "4  https://api.nga.gov/iiif/0003d4e4-d7fd-4835-8d...   \n",
       "\n",
       "                                        iiifthumburl viewtype  sequence  \\\n",
       "0  https://api.nga.gov/iiif/00007f61-4922-417b-8f...  primary       0.0   \n",
       "1  https://api.nga.gov/iiif/0000bd8c-39de-4453-b5...  primary       0.0   \n",
       "2  https://api.nga.gov/iiif/0001668a-dd1c-48e8-92...  primary       0.0   \n",
       "3  https://api.nga.gov/iiif/00032658-8a7a-44e3-8b...  primary       0.0   \n",
       "4  https://api.nga.gov/iiif/0003d4e4-d7fd-4835-8d...  primary       0.0   \n",
       "\n",
       "   width  height  maxpixels                 created                modified  \\\n",
       "0   3365    4332        NaN  2013-07-05 15:41:08-04  2023-07-27 12:06:38-04   \n",
       "1   3500    4688        NaN  2013-08-05 14:31:59-04  2023-07-27 12:11:57-04   \n",
       "2   3446    4448        NaN  2014-01-02 14:50:50-05  2023-07-27 12:39:11-04   \n",
       "3   2674    3798        NaN  2010-10-13 15:37:25-04  2023-07-27 15:51:54-04   \n",
       "4   3000    2648      640.0  2014-11-19 14:24:42-05  2023-11-07 14:13:17-05   \n",
       "\n",
       "   depictstmsobjectid assistivetext  \n",
       "0               17387           NaN  \n",
       "1               19245           NaN  \n",
       "2               23830           NaN  \n",
       "3                 713           NaN  \n",
       "4               71457           NaN  "
      ]
     },
     "execution_count": 2,
     "metadata": {},
     "output_type": "execute_result"
    }
   ],
   "source": [
    "data = pd.read_csv(\"data/published_images.csv\")\n",
    "data.head()"
   ]
  },
  {
   "cell_type": "code",
   "execution_count": 3,
   "metadata": {},
   "outputs": [
    {
     "name": "stderr",
     "output_type": "stream",
     "text": [
      "/tmp/ipykernel_18622/1759643199.py:1: DtypeWarning: Columns (29) have mixed types. Specify dtype option on import or set low_memory=False.\n",
      "  objects = pd.read_csv(\"data/objects.csv\")\n"
     ]
    },
    {
     "data": {
      "text/html": [
       "<div>\n",
       "<style scoped>\n",
       "    .dataframe tbody tr th:only-of-type {\n",
       "        vertical-align: middle;\n",
       "    }\n",
       "\n",
       "    .dataframe tbody tr th {\n",
       "        vertical-align: top;\n",
       "    }\n",
       "\n",
       "    .dataframe thead th {\n",
       "        text-align: right;\n",
       "    }\n",
       "</style>\n",
       "<table border=\"1\" class=\"dataframe\">\n",
       "  <thead>\n",
       "    <tr style=\"text-align: right;\">\n",
       "      <th></th>\n",
       "      <th>objectid</th>\n",
       "      <th>accessioned</th>\n",
       "      <th>accessionnum</th>\n",
       "      <th>locationid</th>\n",
       "      <th>title</th>\n",
       "      <th>displaydate</th>\n",
       "      <th>beginyear</th>\n",
       "      <th>endyear</th>\n",
       "      <th>visualbrowsertimespan</th>\n",
       "      <th>medium</th>\n",
       "      <th>...</th>\n",
       "      <th>parentid</th>\n",
       "      <th>isvirtual</th>\n",
       "      <th>departmentabbr</th>\n",
       "      <th>portfolio</th>\n",
       "      <th>series</th>\n",
       "      <th>volume</th>\n",
       "      <th>watermarks</th>\n",
       "      <th>lastdetectedmodification</th>\n",
       "      <th>wikidataid</th>\n",
       "      <th>customprinturl</th>\n",
       "    </tr>\n",
       "  </thead>\n",
       "  <tbody>\n",
       "    <tr>\n",
       "      <th>0</th>\n",
       "      <td>0</td>\n",
       "      <td>1</td>\n",
       "      <td>1937.1.2.c</td>\n",
       "      <td>NaN</td>\n",
       "      <td>Saint James Major</td>\n",
       "      <td>c. 1310</td>\n",
       "      <td>1310.0</td>\n",
       "      <td>1310.0</td>\n",
       "      <td>1300 to 1400</td>\n",
       "      <td>tempera on panel</td>\n",
       "      <td>...</td>\n",
       "      <td>34.0</td>\n",
       "      <td>0</td>\n",
       "      <td>CIS-R</td>\n",
       "      <td>NaN</td>\n",
       "      <td>NaN</td>\n",
       "      <td>NaN</td>\n",
       "      <td>NaN</td>\n",
       "      <td>2023-05-09 17:01:03.48-04</td>\n",
       "      <td>Q20172973</td>\n",
       "      <td>NaN</td>\n",
       "    </tr>\n",
       "    <tr>\n",
       "      <th>1</th>\n",
       "      <td>1</td>\n",
       "      <td>1</td>\n",
       "      <td>1937.1.3</td>\n",
       "      <td>NaN</td>\n",
       "      <td>Saint Paul and a Group of Worshippers</td>\n",
       "      <td>1333</td>\n",
       "      <td>1333.0</td>\n",
       "      <td>1333.0</td>\n",
       "      <td>1300 to 1400</td>\n",
       "      <td>tempera on panel</td>\n",
       "      <td>...</td>\n",
       "      <td>NaN</td>\n",
       "      <td>0</td>\n",
       "      <td>CIS-R</td>\n",
       "      <td>NaN</td>\n",
       "      <td>NaN</td>\n",
       "      <td>NaN</td>\n",
       "      <td>NaN</td>\n",
       "      <td>2024-01-26 22:01:48.797-05</td>\n",
       "      <td>Q20173083</td>\n",
       "      <td>NaN</td>\n",
       "    </tr>\n",
       "    <tr>\n",
       "      <th>2</th>\n",
       "      <td>17</td>\n",
       "      <td>1</td>\n",
       "      <td>1937.1.15</td>\n",
       "      <td>NaN</td>\n",
       "      <td>Matteo Olivieri (?)</td>\n",
       "      <td>1430s</td>\n",
       "      <td>1430.0</td>\n",
       "      <td>1440.0</td>\n",
       "      <td>1401 to 1500</td>\n",
       "      <td>tempera (and oil?) on panel transferred to canvas</td>\n",
       "      <td>...</td>\n",
       "      <td>NaN</td>\n",
       "      <td>0</td>\n",
       "      <td>CIS-R</td>\n",
       "      <td>NaN</td>\n",
       "      <td>NaN</td>\n",
       "      <td>NaN</td>\n",
       "      <td>NaN</td>\n",
       "      <td>2023-09-15 22:01:37.343-04</td>\n",
       "      <td>Q20173485</td>\n",
       "      <td>NaN</td>\n",
       "    </tr>\n",
       "    <tr>\n",
       "      <th>3</th>\n",
       "      <td>70</td>\n",
       "      <td>1</td>\n",
       "      <td>1937.1.63</td>\n",
       "      <td>8469.0</td>\n",
       "      <td>An Old Woman Dozing over a Book</td>\n",
       "      <td>c. 1655</td>\n",
       "      <td>1655.0</td>\n",
       "      <td>1655.0</td>\n",
       "      <td>1651 to 1700</td>\n",
       "      <td>oil on canvas</td>\n",
       "      <td>...</td>\n",
       "      <td>NaN</td>\n",
       "      <td>0</td>\n",
       "      <td>CNE-B</td>\n",
       "      <td>NaN</td>\n",
       "      <td>NaN</td>\n",
       "      <td>NaN</td>\n",
       "      <td>NaN</td>\n",
       "      <td>2023-05-09 17:01:03.48-04</td>\n",
       "      <td>Q20177396</td>\n",
       "      <td>NaN</td>\n",
       "    </tr>\n",
       "    <tr>\n",
       "      <th>4</th>\n",
       "      <td>25</td>\n",
       "      <td>1</td>\n",
       "      <td>1937.1.23</td>\n",
       "      <td>8388.0</td>\n",
       "      <td>Profile Portrait of a Lady</td>\n",
       "      <td>c. 1410</td>\n",
       "      <td>1410.0</td>\n",
       "      <td>1410.0</td>\n",
       "      <td>1401 to 1500</td>\n",
       "      <td>oil on panel</td>\n",
       "      <td>...</td>\n",
       "      <td>NaN</td>\n",
       "      <td>0</td>\n",
       "      <td>CNE-R</td>\n",
       "      <td>NaN</td>\n",
       "      <td>NaN</td>\n",
       "      <td>NaN</td>\n",
       "      <td>NaN</td>\n",
       "      <td>2023-05-09 17:01:03.48-04</td>\n",
       "      <td>Q3937690</td>\n",
       "      <td>NaN</td>\n",
       "    </tr>\n",
       "  </tbody>\n",
       "</table>\n",
       "<p>5 rows × 30 columns</p>\n",
       "</div>"
      ],
      "text/plain": [
       "   objectid  accessioned accessionnum  locationid  \\\n",
       "0         0            1   1937.1.2.c         NaN   \n",
       "1         1            1     1937.1.3         NaN   \n",
       "2        17            1    1937.1.15         NaN   \n",
       "3        70            1    1937.1.63      8469.0   \n",
       "4        25            1    1937.1.23      8388.0   \n",
       "\n",
       "                                   title displaydate  beginyear  endyear  \\\n",
       "0                      Saint James Major     c. 1310     1310.0   1310.0   \n",
       "1  Saint Paul and a Group of Worshippers        1333     1333.0   1333.0   \n",
       "2                    Matteo Olivieri (?)       1430s     1430.0   1440.0   \n",
       "3        An Old Woman Dozing over a Book     c. 1655     1655.0   1655.0   \n",
       "4             Profile Portrait of a Lady     c. 1410     1410.0   1410.0   \n",
       "\n",
       "  visualbrowsertimespan                                             medium  \\\n",
       "0          1300 to 1400                                   tempera on panel   \n",
       "1          1300 to 1400                                   tempera on panel   \n",
       "2          1401 to 1500  tempera (and oil?) on panel transferred to canvas   \n",
       "3          1651 to 1700                                      oil on canvas   \n",
       "4          1401 to 1500                                       oil on panel   \n",
       "\n",
       "   ... parentid isvirtual departmentabbr portfolio series volume watermarks  \\\n",
       "0  ...     34.0         0          CIS-R       NaN    NaN    NaN        NaN   \n",
       "1  ...      NaN         0          CIS-R       NaN    NaN    NaN        NaN   \n",
       "2  ...      NaN         0          CIS-R       NaN    NaN    NaN        NaN   \n",
       "3  ...      NaN         0          CNE-B       NaN    NaN    NaN        NaN   \n",
       "4  ...      NaN         0          CNE-R       NaN    NaN    NaN        NaN   \n",
       "\n",
       "     lastdetectedmodification wikidataid customprinturl  \n",
       "0   2023-05-09 17:01:03.48-04  Q20172973            NaN  \n",
       "1  2024-01-26 22:01:48.797-05  Q20173083            NaN  \n",
       "2  2023-09-15 22:01:37.343-04  Q20173485            NaN  \n",
       "3   2023-05-09 17:01:03.48-04  Q20177396            NaN  \n",
       "4   2023-05-09 17:01:03.48-04   Q3937690            NaN  \n",
       "\n",
       "[5 rows x 30 columns]"
      ]
     },
     "execution_count": 3,
     "metadata": {},
     "output_type": "execute_result"
    }
   ],
   "source": [
    "objects = pd.read_csv(\"data/objects.csv\")\n",
    "objects.head()"
   ]
  },
  {
   "cell_type": "code",
   "execution_count": 4,
   "metadata": {},
   "outputs": [
    {
     "data": {
      "text/html": [
       "<div>\n",
       "<style scoped>\n",
       "    .dataframe tbody tr th:only-of-type {\n",
       "        vertical-align: middle;\n",
       "    }\n",
       "\n",
       "    .dataframe tbody tr th {\n",
       "        vertical-align: top;\n",
       "    }\n",
       "\n",
       "    .dataframe thead th {\n",
       "        text-align: right;\n",
       "    }\n",
       "</style>\n",
       "<table border=\"1\" class=\"dataframe\">\n",
       "  <thead>\n",
       "    <tr style=\"text-align: right;\">\n",
       "      <th></th>\n",
       "      <th>uuid</th>\n",
       "      <th>iiifurl</th>\n",
       "      <th>iiifthumburl</th>\n",
       "      <th>viewtype</th>\n",
       "      <th>sequence</th>\n",
       "      <th>width</th>\n",
       "      <th>height</th>\n",
       "      <th>maxpixels</th>\n",
       "      <th>created</th>\n",
       "      <th>modified</th>\n",
       "      <th>depictstmsobjectid</th>\n",
       "      <th>assistivetext</th>\n",
       "      <th>objectid</th>\n",
       "      <th>visualbrowsertimespan</th>\n",
       "    </tr>\n",
       "  </thead>\n",
       "  <tbody>\n",
       "    <tr>\n",
       "      <th>0</th>\n",
       "      <td>00007f61-4922-417b-8f27-893ea328206c</td>\n",
       "      <td>https://api.nga.gov/iiif/00007f61-4922-417b-8f...</td>\n",
       "      <td>https://api.nga.gov/iiif/00007f61-4922-417b-8f...</td>\n",
       "      <td>primary</td>\n",
       "      <td>0.0</td>\n",
       "      <td>3365</td>\n",
       "      <td>4332</td>\n",
       "      <td>NaN</td>\n",
       "      <td>2013-07-05 15:41:08-04</td>\n",
       "      <td>2023-07-27 12:06:38-04</td>\n",
       "      <td>17387</td>\n",
       "      <td>NaN</td>\n",
       "      <td>17387.0</td>\n",
       "      <td>1926 to 1950</td>\n",
       "    </tr>\n",
       "    <tr>\n",
       "      <th>1</th>\n",
       "      <td>0000bd8c-39de-4453-b55d-5e28a9beed38</td>\n",
       "      <td>https://api.nga.gov/iiif/0000bd8c-39de-4453-b5...</td>\n",
       "      <td>https://api.nga.gov/iiif/0000bd8c-39de-4453-b5...</td>\n",
       "      <td>primary</td>\n",
       "      <td>0.0</td>\n",
       "      <td>3500</td>\n",
       "      <td>4688</td>\n",
       "      <td>NaN</td>\n",
       "      <td>2013-08-05 14:31:59-04</td>\n",
       "      <td>2023-07-27 12:11:57-04</td>\n",
       "      <td>19245</td>\n",
       "      <td>NaN</td>\n",
       "      <td>19245.0</td>\n",
       "      <td>1926 to 1950</td>\n",
       "    </tr>\n",
       "    <tr>\n",
       "      <th>2</th>\n",
       "      <td>0001668a-dd1c-48e8-9267-b6d1697d43c8</td>\n",
       "      <td>https://api.nga.gov/iiif/0001668a-dd1c-48e8-92...</td>\n",
       "      <td>https://api.nga.gov/iiif/0001668a-dd1c-48e8-92...</td>\n",
       "      <td>primary</td>\n",
       "      <td>0.0</td>\n",
       "      <td>3446</td>\n",
       "      <td>4448</td>\n",
       "      <td>NaN</td>\n",
       "      <td>2014-01-02 14:50:50-05</td>\n",
       "      <td>2023-07-27 12:39:11-04</td>\n",
       "      <td>23830</td>\n",
       "      <td>NaN</td>\n",
       "      <td>23830.0</td>\n",
       "      <td>1926 to 1950</td>\n",
       "    </tr>\n",
       "    <tr>\n",
       "      <th>3</th>\n",
       "      <td>00032658-8a7a-44e3-8bb8-df8c172f521d</td>\n",
       "      <td>https://api.nga.gov/iiif/00032658-8a7a-44e3-8b...</td>\n",
       "      <td>https://api.nga.gov/iiif/00032658-8a7a-44e3-8b...</td>\n",
       "      <td>primary</td>\n",
       "      <td>0.0</td>\n",
       "      <td>2674</td>\n",
       "      <td>3798</td>\n",
       "      <td>NaN</td>\n",
       "      <td>2010-10-13 15:37:25-04</td>\n",
       "      <td>2023-07-27 15:51:54-04</td>\n",
       "      <td>713</td>\n",
       "      <td>NaN</td>\n",
       "      <td>713.0</td>\n",
       "      <td>1501 to 1550</td>\n",
       "    </tr>\n",
       "    <tr>\n",
       "      <th>4</th>\n",
       "      <td>0003d4e4-d7fd-4835-8d27-1e9e20672e39</td>\n",
       "      <td>https://api.nga.gov/iiif/0003d4e4-d7fd-4835-8d...</td>\n",
       "      <td>https://api.nga.gov/iiif/0003d4e4-d7fd-4835-8d...</td>\n",
       "      <td>primary</td>\n",
       "      <td>0.0</td>\n",
       "      <td>3000</td>\n",
       "      <td>2648</td>\n",
       "      <td>640.0</td>\n",
       "      <td>2014-11-19 14:24:42-05</td>\n",
       "      <td>2023-11-07 14:13:17-05</td>\n",
       "      <td>71457</td>\n",
       "      <td>NaN</td>\n",
       "      <td>71457.0</td>\n",
       "      <td>1976 to 2000</td>\n",
       "    </tr>\n",
       "  </tbody>\n",
       "</table>\n",
       "</div>"
      ],
      "text/plain": [
       "                                   uuid  \\\n",
       "0  00007f61-4922-417b-8f27-893ea328206c   \n",
       "1  0000bd8c-39de-4453-b55d-5e28a9beed38   \n",
       "2  0001668a-dd1c-48e8-9267-b6d1697d43c8   \n",
       "3  00032658-8a7a-44e3-8bb8-df8c172f521d   \n",
       "4  0003d4e4-d7fd-4835-8d27-1e9e20672e39   \n",
       "\n",
       "                                             iiifurl  \\\n",
       "0  https://api.nga.gov/iiif/00007f61-4922-417b-8f...   \n",
       "1  https://api.nga.gov/iiif/0000bd8c-39de-4453-b5...   \n",
       "2  https://api.nga.gov/iiif/0001668a-dd1c-48e8-92...   \n",
       "3  https://api.nga.gov/iiif/00032658-8a7a-44e3-8b...   \n",
       "4  https://api.nga.gov/iiif/0003d4e4-d7fd-4835-8d...   \n",
       "\n",
       "                                        iiifthumburl viewtype  sequence  \\\n",
       "0  https://api.nga.gov/iiif/00007f61-4922-417b-8f...  primary       0.0   \n",
       "1  https://api.nga.gov/iiif/0000bd8c-39de-4453-b5...  primary       0.0   \n",
       "2  https://api.nga.gov/iiif/0001668a-dd1c-48e8-92...  primary       0.0   \n",
       "3  https://api.nga.gov/iiif/00032658-8a7a-44e3-8b...  primary       0.0   \n",
       "4  https://api.nga.gov/iiif/0003d4e4-d7fd-4835-8d...  primary       0.0   \n",
       "\n",
       "   width  height  maxpixels                 created                modified  \\\n",
       "0   3365    4332        NaN  2013-07-05 15:41:08-04  2023-07-27 12:06:38-04   \n",
       "1   3500    4688        NaN  2013-08-05 14:31:59-04  2023-07-27 12:11:57-04   \n",
       "2   3446    4448        NaN  2014-01-02 14:50:50-05  2023-07-27 12:39:11-04   \n",
       "3   2674    3798        NaN  2010-10-13 15:37:25-04  2023-07-27 15:51:54-04   \n",
       "4   3000    2648      640.0  2014-11-19 14:24:42-05  2023-11-07 14:13:17-05   \n",
       "\n",
       "   depictstmsobjectid assistivetext  objectid visualbrowsertimespan  \n",
       "0               17387           NaN   17387.0          1926 to 1950  \n",
       "1               19245           NaN   19245.0          1926 to 1950  \n",
       "2               23830           NaN   23830.0          1926 to 1950  \n",
       "3                 713           NaN     713.0          1501 to 1550  \n",
       "4               71457           NaN   71457.0          1976 to 2000  "
      ]
     },
     "execution_count": 4,
     "metadata": {},
     "output_type": "execute_result"
    }
   ],
   "source": [
    "data = data.merge(objects[[\"objectid\", \"visualbrowsertimespan\"]], left_on=\"depictstmsobjectid\", right_on=\"objectid\", how=\"left\")\n",
    "data.head()"
   ]
  },
  {
   "cell_type": "code",
   "execution_count": 5,
   "metadata": {},
   "outputs": [
    {
     "name": "stdout",
     "output_type": "stream",
     "text": [
      "Number of rows before dropping NaN values: 116251\n",
      "Number of rows after dropping NaN values: 116093\n"
     ]
    }
   ],
   "source": [
    "print(f\"Number of rows before dropping NaN values: {data.shape[0]}\")\n",
    "data.dropna(subset=['visualbrowsertimespan'], inplace=True)\n",
    "print(f\"Number of rows after dropping NaN values: {data.shape[0]}\")"
   ]
  },
  {
   "cell_type": "code",
   "execution_count": 6,
   "metadata": {},
   "outputs": [
    {
     "name": "stdout",
     "output_type": "stream",
     "text": [
      "Number of images in 'data/images/' directory: 116162\n"
     ]
    }
   ],
   "source": [
    "import glob\n",
    "\n",
    "image_files = glob.glob(\"data/images/*.jpg\")\n",
    "num_images = len(image_files)\n",
    "\n",
    "print(f\"Number of images in 'data/images/' directory: {num_images}\")\n"
   ]
  },
  {
   "cell_type": "code",
   "execution_count": 7,
   "metadata": {},
   "outputs": [],
   "source": [
    "import os\n",
    "\n",
    "# Filter out the rows where the image file doesn't exist\n",
    "data = data[data['uuid'].apply(lambda x: os.path.exists(f'data/images/{x}.jpg'))]\n"
   ]
  },
  {
   "cell_type": "code",
   "execution_count": 8,
   "metadata": {},
   "outputs": [],
   "source": [
    "task_data = data[['uuid', 'visualbrowsertimespan']]\n",
    "task_data.to_csv(\"data/task_data.csv\", index=False)"
   ]
  },
  {
   "cell_type": "code",
   "execution_count": 9,
   "metadata": {},
   "outputs": [
    {
     "name": "stdout",
     "output_type": "stream",
     "text": [
      "{'1926 to 1950': 0, '1501 to 1550': 1, '1976 to 2000': 2, '1601 to 1650': 3, '1951 to 1975': 4, '1876 to 1900': 5, '1826 to 1850': 6, '1401 to 1500': 7, '1300 to 1400': 8, '1751 to 1775': 9, '1801 to 1825': 10, '1851 to 1875': 11, '1901 to 1925': 12, '2001 to present': 13, '1726 to 1750': 14, '1651 to 1700': 15, '1776 to 1800': 16, '1551 to 1600': 17, '1701 to 1725': 18, 'before 1300': 19}\n"
     ]
    }
   ],
   "source": [
    "time_spans = task_data['visualbrowsertimespan'].unique()\n",
    "time_span_mappping = {time_span: i for i, time_span in enumerate(time_spans)}\n",
    "print(time_span_mappping)"
   ]
  },
  {
   "cell_type": "code",
   "execution_count": 10,
   "metadata": {},
   "outputs": [
    {
     "name": "stderr",
     "output_type": "stream",
     "text": [
      "/tmp/ipykernel_18622/55327113.py:1: SettingWithCopyWarning: \n",
      "A value is trying to be set on a copy of a slice from a DataFrame.\n",
      "Try using .loc[row_indexer,col_indexer] = value instead\n",
      "\n",
      "See the caveats in the documentation: https://pandas.pydata.org/pandas-docs/stable/user_guide/indexing.html#returning-a-view-versus-a-copy\n",
      "  task_data['visualbrowsertimespan'] = task_data['visualbrowsertimespan'].map(time_span_mappping)\n"
     ]
    },
    {
     "data": {
      "text/html": [
       "<div>\n",
       "<style scoped>\n",
       "    .dataframe tbody tr th:only-of-type {\n",
       "        vertical-align: middle;\n",
       "    }\n",
       "\n",
       "    .dataframe tbody tr th {\n",
       "        vertical-align: top;\n",
       "    }\n",
       "\n",
       "    .dataframe thead th {\n",
       "        text-align: right;\n",
       "    }\n",
       "</style>\n",
       "<table border=\"1\" class=\"dataframe\">\n",
       "  <thead>\n",
       "    <tr style=\"text-align: right;\">\n",
       "      <th></th>\n",
       "      <th>uuid</th>\n",
       "      <th>visualbrowsertimespan</th>\n",
       "    </tr>\n",
       "  </thead>\n",
       "  <tbody>\n",
       "    <tr>\n",
       "      <th>0</th>\n",
       "      <td>00007f61-4922-417b-8f27-893ea328206c</td>\n",
       "      <td>0</td>\n",
       "    </tr>\n",
       "    <tr>\n",
       "      <th>1</th>\n",
       "      <td>0000bd8c-39de-4453-b55d-5e28a9beed38</td>\n",
       "      <td>0</td>\n",
       "    </tr>\n",
       "    <tr>\n",
       "      <th>2</th>\n",
       "      <td>0001668a-dd1c-48e8-9267-b6d1697d43c8</td>\n",
       "      <td>0</td>\n",
       "    </tr>\n",
       "    <tr>\n",
       "      <th>3</th>\n",
       "      <td>00032658-8a7a-44e3-8bb8-df8c172f521d</td>\n",
       "      <td>1</td>\n",
       "    </tr>\n",
       "    <tr>\n",
       "      <th>4</th>\n",
       "      <td>0003d4e4-d7fd-4835-8d27-1e9e20672e39</td>\n",
       "      <td>2</td>\n",
       "    </tr>\n",
       "  </tbody>\n",
       "</table>\n",
       "</div>"
      ],
      "text/plain": [
       "                                   uuid  visualbrowsertimespan\n",
       "0  00007f61-4922-417b-8f27-893ea328206c                      0\n",
       "1  0000bd8c-39de-4453-b55d-5e28a9beed38                      0\n",
       "2  0001668a-dd1c-48e8-9267-b6d1697d43c8                      0\n",
       "3  00032658-8a7a-44e3-8bb8-df8c172f521d                      1\n",
       "4  0003d4e4-d7fd-4835-8d27-1e9e20672e39                      2"
      ]
     },
     "execution_count": 10,
     "metadata": {},
     "output_type": "execute_result"
    }
   ],
   "source": [
    "\n",
    "task_data['visualbrowsertimespan'] = task_data['visualbrowsertimespan'].map(time_span_mappping)\n",
    "task_data.head()\n"
   ]
  },
  {
   "cell_type": "code",
   "execution_count": 11,
   "metadata": {},
   "outputs": [
    {
     "name": "stdout",
     "output_type": "stream",
     "text": [
      "Training data shape: (92803, 2)\n",
      "Test data shape: (23201, 2)\n"
     ]
    }
   ],
   "source": [
    "from sklearn.model_selection import train_test_split\n",
    "\n",
    "# Split the data into training and test sets\n",
    "train_data, test_data = train_test_split(task_data, test_size=0.2, random_state=42)\n",
    "\n",
    "# Print the shapes of the training and test sets\n",
    "print(\"Training data shape:\", train_data.shape)\n",
    "print(\"Test data shape:\", test_data.shape)\n"
   ]
  },
  {
   "cell_type": "code",
   "execution_count": 12,
   "metadata": {},
   "outputs": [],
   "source": [
    "import torch \n",
    "import torch.nn as nn\n",
    "import torch.optim as optim\n",
    "from torch.utils.tensorboard import SummaryWriter\n",
    "import numpy as np\n",
    "import matplotlib.pyplot as plt\n",
    "import torchvision.transforms as transforms\n",
    "from torch.utils.data import Dataset, DataLoader\n",
    "import torchvision.transforms as transforms\n",
    "from torchvision import models\n",
    "from tqdm import tqdm\n",
    "from PIL import Image, ImageFile\n",
    "ImageFile.LOAD_TRUNCATED_IMAGES = True\n",
    "from torch.nn import DataParallel\n",
    "\n",
    "import warnings\n",
    "warnings.filterwarnings(\"ignore\")"
   ]
  },
  {
   "cell_type": "code",
   "execution_count": 13,
   "metadata": {},
   "outputs": [],
   "source": [
    "class ImageDataset(Dataset):\n",
    "    def __init__(self, data, image_dir, transform=None):\n",
    "        self.data = data\n",
    "        self.image_dir = image_dir\n",
    "        self.transform = transform\n",
    "\n",
    "    def __len__(self):\n",
    "        return len(self.data)\n",
    "\n",
    "    def __getitem__(self, idx):\n",
    "        img_name = f\"{self.image_dir}/{self.data.iloc[idx, 0]}.jpg\"\n",
    "        image = Image.open(img_name)\n",
    "        label = self.data.iloc[idx, 1]\n",
    "\n",
    "        if self.transform:\n",
    "            image = self.transform(image)\n",
    "\n",
    "        return image, label"
   ]
  },
  {
   "cell_type": "code",
   "execution_count": 14,
   "metadata": {},
   "outputs": [],
   "source": [
    "class ImageClassifier(nn.Module):\n",
    "    def __init__(self, num_classes):\n",
    "        super(ImageClassifier, self).__init__()\n",
    "        self.model = models.resnet50(pretrained=True)\n",
    "        in_features = self.model.fc.in_features\n",
    "        self.model.fc = nn.Linear(in_features, num_classes)\n",
    "\n",
    "    def forward(self, x):\n",
    "        return self.model(x)"
   ]
  },
  {
   "cell_type": "code",
   "execution_count": 15,
   "metadata": {},
   "outputs": [],
   "source": [
    "train_transform = transforms.Compose([\n",
    "            transforms.RandomRotation(360),\n",
    "            transforms.RandomHorizontalFlip(),\n",
    "            transforms.RandomAffine(degrees=(-10, 10), translate=(0.05, 0.05), scale=(0.95, 1.05), shear=5),\n",
    "            transforms.RandomPerspective(distortion_scale=0.1, p=0.1),  \n",
    "            transforms.GaussianBlur(kernel_size=(3, 3), sigma=(0.1, 0.2)),\n",
    "            transforms.ColorJitter(brightness=0.1, contrast=0.1, saturation=0.1, hue=0.1),\n",
    "            transforms.Resize((224, 224)),\n",
    "            transforms.ToTensor(),\n",
    "            transforms.Normalize((0.5, 0.5, 0.5), (0.5, 0.5, 0.5)),\n",
    "        ])\n",
    "\n",
    "test_transform = transforms.Compose([\n",
    "            transforms.Resize((224, 224)),\n",
    "            transforms.ToTensor(),\n",
    "            transforms.Normalize((0.5, 0.5, 0.5), (0.5, 0.5, 0.5))\n",
    "        ])\n",
    "\n",
    "train_dataset = ImageDataset(train_data, \"data/images\", transform=train_transform)\n",
    "test_dataset = ImageDataset(test_data, \"data/images\", transform=test_transform)\n",
    "\n",
    "train_loader = DataLoader(train_dataset, batch_size=32, shuffle=True)\n",
    "test_loader = DataLoader(test_dataset, batch_size=32, shuffle=False)\n",
    "\n",
    "device = torch.device(\"cuda\" if torch.cuda.is_available() else \"cpu\")\n",
    "model = ImageClassifier(num_classes=len(time_spans)).to(device)\n",
    "model = DataParallel(model)\n",
    "criterion = nn.CrossEntropyLoss()\n",
    "optimizer = optim.Adam(model.parameters(), lr=0.0001)\n",
    "summary = SummaryWriter()\n",
    "iterations = 0\n",
    "\n",
    "def train(model, train_loader, criterion, optimizer, device, epoch, summary, iterations):\n",
    "    model.train()\n",
    "    running_loss = 0.0\n",
    "    for i, data in enumerate(tqdm(train_loader)):\n",
    "        inputs, labels = data\n",
    "        inputs, labels = inputs.to(device), labels.to(device)\n",
    "\n",
    "        optimizer.zero_grad()\n",
    "        outputs = model(inputs)\n",
    "        loss = criterion(outputs, labels)\n",
    "        loss.backward()\n",
    "        optimizer.step()\n",
    "        summary.add_scalar(\"train_loss\", loss.item(), iterations)\n",
    "        iterations += 1\n",
    "        running_loss += loss.item()\n",
    "    epoch_loss = running_loss / len(train_loader)\n",
    "    print(f\"Train Loss: {epoch_loss}\")\n",
    "    return model, iterations\n",
    "\n",
    "def test(model, test_loader, criterion, device, epoch, summary):\n",
    "    model.eval()\n",
    "    running_loss = 0.0\n",
    "    correct = 0\n",
    "    total = 0\n",
    "    with torch.no_grad():\n",
    "        for data in tqdm(test_loader):\n",
    "            inputs, labels = data\n",
    "            inputs, labels = inputs.to(device), labels.to(device)\n",
    "\n",
    "            outputs = model(inputs)\n",
    "            loss = criterion(outputs, labels)\n",
    "            running_loss += loss.item()\n",
    "\n",
    "            _, predicted = torch.max(outputs.data, 1)\n",
    "            total += labels.size(0)\n",
    "            correct += (predicted == labels).sum().item()\n",
    "\n",
    "    epoch_loss = running_loss / len(test_loader)\n",
    "    accuracy = 100 * correct / total\n",
    "    print(f\"Test Loss: {epoch_loss}, Accuracy: {accuracy}\")\n",
    "    summary.add_scalar(\"test_loss\", epoch_loss, epoch)\n",
    "    summary.add_scalar(\"test_accuracy\", accuracy, epoch)\n",
    "    return accuracy\n"
   ]
  },
  {
   "cell_type": "code",
   "execution_count": 16,
   "metadata": {},
   "outputs": [
    {
     "name": "stdout",
     "output_type": "stream",
     "text": [
      "Epoch 1\n"
     ]
    },
    {
     "name": "stderr",
     "output_type": "stream",
     "text": [
      "100%|██████████| 2901/2901 [15:52<00:00,  3.05it/s]\n"
     ]
    },
    {
     "name": "stdout",
     "output_type": "stream",
     "text": [
      "Train Loss: 1.690137814834421\n"
     ]
    },
    {
     "name": "stderr",
     "output_type": "stream",
     "text": [
      "100%|██████████| 726/726 [01:31<00:00,  7.93it/s]\n"
     ]
    },
    {
     "name": "stdout",
     "output_type": "stream",
     "text": [
      "Test Loss: 1.6270704830973601, Accuracy: 49.32977026852291\n",
      "Epoch 2\n"
     ]
    },
    {
     "name": "stderr",
     "output_type": "stream",
     "text": [
      "100%|██████████| 2901/2901 [15:13<00:00,  3.17it/s]\n"
     ]
    },
    {
     "name": "stdout",
     "output_type": "stream",
     "text": [
      "Train Loss: 1.4655975448760605\n"
     ]
    },
    {
     "name": "stderr",
     "output_type": "stream",
     "text": [
      "100%|██████████| 726/726 [01:29<00:00,  8.12it/s]\n"
     ]
    },
    {
     "name": "stdout",
     "output_type": "stream",
     "text": [
      "Test Loss: 1.6822010135026675, Accuracy: 50.592646868669455\n",
      "Epoch 3\n"
     ]
    },
    {
     "name": "stderr",
     "output_type": "stream",
     "text": [
      "100%|██████████| 2901/2901 [15:13<00:00,  3.17it/s]\n"
     ]
    },
    {
     "name": "stdout",
     "output_type": "stream",
     "text": [
      "Train Loss: 1.3722520290017743\n"
     ]
    },
    {
     "name": "stderr",
     "output_type": "stream",
     "text": [
      "100%|██████████| 726/726 [01:35<00:00,  7.59it/s]\n"
     ]
    },
    {
     "name": "stdout",
     "output_type": "stream",
     "text": [
      "Test Loss: 1.4545212095351916, Accuracy: 54.30369380630145\n",
      "Epoch 4\n"
     ]
    },
    {
     "name": "stderr",
     "output_type": "stream",
     "text": [
      "100%|██████████| 2901/2901 [15:13<00:00,  3.18it/s]\n"
     ]
    },
    {
     "name": "stdout",
     "output_type": "stream",
     "text": [
      "Train Loss: 1.308250688450454\n"
     ]
    },
    {
     "name": "stderr",
     "output_type": "stream",
     "text": [
      "100%|██████████| 726/726 [01:33<00:00,  7.79it/s]\n"
     ]
    },
    {
     "name": "stdout",
     "output_type": "stream",
     "text": [
      "Test Loss: 1.5210858398725178, Accuracy: 54.217490625404075\n",
      "Epoch 5\n"
     ]
    },
    {
     "name": "stderr",
     "output_type": "stream",
     "text": [
      "100%|██████████| 2901/2901 [15:09<00:00,  3.19it/s]\n"
     ]
    },
    {
     "name": "stdout",
     "output_type": "stream",
     "text": [
      "Train Loss: 1.2609052630960016\n"
     ]
    },
    {
     "name": "stderr",
     "output_type": "stream",
     "text": [
      "100%|██████████| 726/726 [01:32<00:00,  7.83it/s]\n"
     ]
    },
    {
     "name": "stdout",
     "output_type": "stream",
     "text": [
      "Test Loss: 1.3968077205100993, Accuracy: 55.92000344812723\n",
      "Epoch 6\n"
     ]
    },
    {
     "name": "stderr",
     "output_type": "stream",
     "text": [
      "100%|██████████| 2901/2901 [15:20<00:00,  3.15it/s]\n"
     ]
    },
    {
     "name": "stdout",
     "output_type": "stream",
     "text": [
      "Train Loss: 1.2195870250062835\n"
     ]
    },
    {
     "name": "stderr",
     "output_type": "stream",
     "text": [
      "100%|██████████| 726/726 [01:32<00:00,  7.81it/s]\n"
     ]
    },
    {
     "name": "stdout",
     "output_type": "stream",
     "text": [
      "Test Loss: 1.3554734793740528, Accuracy: 56.99754320934443\n",
      "Epoch 7\n"
     ]
    },
    {
     "name": "stderr",
     "output_type": "stream",
     "text": [
      "100%|██████████| 2901/2901 [15:15<00:00,  3.17it/s]\n"
     ]
    },
    {
     "name": "stdout",
     "output_type": "stream",
     "text": [
      "Train Loss: 1.184016942443703\n"
     ]
    },
    {
     "name": "stderr",
     "output_type": "stream",
     "text": [
      "100%|██████████| 726/726 [01:31<00:00,  7.93it/s]\n"
     ]
    },
    {
     "name": "stdout",
     "output_type": "stream",
     "text": [
      "Test Loss: 1.3625999040511685, Accuracy: 57.954398517305286\n",
      "Epoch 8\n"
     ]
    },
    {
     "name": "stderr",
     "output_type": "stream",
     "text": [
      "100%|██████████| 2901/2901 [15:11<00:00,  3.18it/s]\n"
     ]
    },
    {
     "name": "stdout",
     "output_type": "stream",
     "text": [
      "Train Loss: 1.153340318035726\n"
     ]
    },
    {
     "name": "stderr",
     "output_type": "stream",
     "text": [
      "100%|██████████| 726/726 [01:30<00:00,  8.06it/s]\n"
     ]
    },
    {
     "name": "stdout",
     "output_type": "stream",
     "text": [
      "Test Loss: 1.343617481141051, Accuracy: 57.967328994439896\n",
      "Epoch 9\n"
     ]
    },
    {
     "name": "stderr",
     "output_type": "stream",
     "text": [
      "100%|██████████| 2901/2901 [15:20<00:00,  3.15it/s]\n"
     ]
    },
    {
     "name": "stdout",
     "output_type": "stream",
     "text": [
      "Train Loss: 1.1244382328388816\n"
     ]
    },
    {
     "name": "stderr",
     "output_type": "stream",
     "text": [
      "100%|██████████| 726/726 [01:31<00:00,  7.90it/s]\n"
     ]
    },
    {
     "name": "stdout",
     "output_type": "stream",
     "text": [
      "Test Loss: 1.279041744132344, Accuracy: 59.18710400413775\n",
      "Epoch 10\n"
     ]
    },
    {
     "name": "stderr",
     "output_type": "stream",
     "text": [
      "100%|██████████| 2901/2901 [15:12<00:00,  3.18it/s]\n"
     ]
    },
    {
     "name": "stdout",
     "output_type": "stream",
     "text": [
      "Train Loss: 1.0983684018475153\n"
     ]
    },
    {
     "name": "stderr",
     "output_type": "stream",
     "text": [
      "100%|██████████| 726/726 [01:31<00:00,  7.89it/s]\n"
     ]
    },
    {
     "name": "stdout",
     "output_type": "stream",
     "text": [
      "Test Loss: 1.3050892327606842, Accuracy: 59.29485798025947\n"
     ]
    }
   ],
   "source": [
    "best_accuracy = 0\n",
    "for epoch in range(10):\n",
    "    print(f\"Epoch {epoch + 1}\")\n",
    "    model, iterations = train(model, train_loader, criterion, optimizer, device, epoch, summary, iterations)\n",
    "    accuracy = test(model, test_loader, criterion, device, epoch, summary)\n",
    "    if accuracy > best_accuracy:\n",
    "        best_accuracy = accuracy\n",
    "        torch.save(model.state_dict(), \"model.pth\")"
   ]
  },
  {
   "cell_type": "code",
   "execution_count": 18,
   "metadata": {},
   "outputs": [
    {
     "name": "stdout",
     "output_type": "stream",
     "text": [
      "Epoch 1\n"
     ]
    },
    {
     "name": "stderr",
     "output_type": "stream",
     "text": [
      "100%|██████████| 2901/2901 [15:17<00:00,  3.16it/s]\n"
     ]
    },
    {
     "name": "stdout",
     "output_type": "stream",
     "text": [
      "Train Loss: 1.0731199352402638\n"
     ]
    },
    {
     "name": "stderr",
     "output_type": "stream",
     "text": [
      "100%|██████████| 726/726 [01:33<00:00,  7.79it/s]\n"
     ]
    },
    {
     "name": "stdout",
     "output_type": "stream",
     "text": [
      "Test Loss: 1.3640705223911065, Accuracy: 58.84660143959312\n",
      "Epoch 2\n"
     ]
    },
    {
     "name": "stderr",
     "output_type": "stream",
     "text": [
      "100%|██████████| 2901/2901 [15:11<00:00,  3.18it/s]\n"
     ]
    },
    {
     "name": "stdout",
     "output_type": "stream",
     "text": [
      "Train Loss: 1.0487641955564369\n"
     ]
    },
    {
     "name": "stderr",
     "output_type": "stream",
     "text": [
      "100%|██████████| 726/726 [01:31<00:00,  7.97it/s]\n"
     ]
    },
    {
     "name": "stdout",
     "output_type": "stream",
     "text": [
      "Test Loss: 1.360556701983302, Accuracy: 58.600922374035605\n",
      "Epoch 3\n"
     ]
    },
    {
     "name": "stderr",
     "output_type": "stream",
     "text": [
      "100%|██████████| 2901/2901 [15:11<00:00,  3.18it/s]\n"
     ]
    },
    {
     "name": "stdout",
     "output_type": "stream",
     "text": [
      "Train Loss: 1.026329971066593\n"
     ]
    },
    {
     "name": "stderr",
     "output_type": "stream",
     "text": [
      "100%|██████████| 726/726 [01:30<00:00,  8.04it/s]\n"
     ]
    },
    {
     "name": "stdout",
     "output_type": "stream",
     "text": [
      "Test Loss: 1.3139927555132176, Accuracy: 59.45864402396448\n",
      "Epoch 4\n"
     ]
    },
    {
     "name": "stderr",
     "output_type": "stream",
     "text": [
      "100%|██████████| 2901/2901 [15:14<00:00,  3.17it/s]\n"
     ]
    },
    {
     "name": "stdout",
     "output_type": "stream",
     "text": [
      "Train Loss: 1.0068358256668108\n"
     ]
    },
    {
     "name": "stderr",
     "output_type": "stream",
     "text": [
      "100%|██████████| 726/726 [01:31<00:00,  7.95it/s]\n"
     ]
    },
    {
     "name": "stdout",
     "output_type": "stream",
     "text": [
      "Test Loss: 1.2765662414804306, Accuracy: 60.82927460023275\n",
      "Epoch 5\n"
     ]
    },
    {
     "name": "stderr",
     "output_type": "stream",
     "text": [
      "100%|██████████| 2901/2901 [15:17<00:00,  3.16it/s]\n"
     ]
    },
    {
     "name": "stdout",
     "output_type": "stream",
     "text": [
      "Train Loss: 0.9853862111464076\n"
     ]
    },
    {
     "name": "stderr",
     "output_type": "stream",
     "text": [
      "100%|██████████| 726/726 [01:31<00:00,  7.93it/s]\n"
     ]
    },
    {
     "name": "stdout",
     "output_type": "stream",
     "text": [
      "Test Loss: 1.3261786331486767, Accuracy: 60.4629110814189\n",
      "Epoch 6\n"
     ]
    },
    {
     "name": "stderr",
     "output_type": "stream",
     "text": [
      "100%|██████████| 2901/2901 [15:14<00:00,  3.17it/s]\n"
     ]
    },
    {
     "name": "stdout",
     "output_type": "stream",
     "text": [
      "Train Loss: 0.9690948955480989\n"
     ]
    },
    {
     "name": "stderr",
     "output_type": "stream",
     "text": [
      "100%|██████████| 726/726 [01:31<00:00,  7.98it/s]\n"
     ]
    },
    {
     "name": "stdout",
     "output_type": "stream",
     "text": [
      "Test Loss: 1.311826701458164, Accuracy: 60.863755872591696\n",
      "Epoch 7\n"
     ]
    },
    {
     "name": "stderr",
     "output_type": "stream",
     "text": [
      "100%|██████████| 2901/2901 [15:13<00:00,  3.17it/s]\n"
     ]
    },
    {
     "name": "stdout",
     "output_type": "stream",
     "text": [
      "Train Loss: 0.9511676182709082\n"
     ]
    },
    {
     "name": "stderr",
     "output_type": "stream",
     "text": [
      "100%|██████████| 726/726 [01:31<00:00,  7.92it/s]\n"
     ]
    },
    {
     "name": "stdout",
     "output_type": "stream",
     "text": [
      "Test Loss: 1.3074272146484411, Accuracy: 61.4154562303349\n",
      "Epoch 8\n"
     ]
    },
    {
     "name": "stderr",
     "output_type": "stream",
     "text": [
      "100%|██████████| 2901/2901 [15:11<00:00,  3.18it/s]\n"
     ]
    },
    {
     "name": "stdout",
     "output_type": "stream",
     "text": [
      "Train Loss: 0.9290971909256402\n"
     ]
    },
    {
     "name": "stderr",
     "output_type": "stream",
     "text": [
      "100%|██████████| 726/726 [01:30<00:00,  8.01it/s]\n"
     ]
    },
    {
     "name": "stdout",
     "output_type": "stream",
     "text": [
      "Test Loss: 1.2541883173231907, Accuracy: 61.56200163786044\n",
      "Epoch 9\n"
     ]
    },
    {
     "name": "stderr",
     "output_type": "stream",
     "text": [
      "100%|██████████| 2901/2901 [15:17<00:00,  3.16it/s]\n"
     ]
    },
    {
     "name": "stdout",
     "output_type": "stream",
     "text": [
      "Train Loss: 0.9111072075588873\n"
     ]
    },
    {
     "name": "stderr",
     "output_type": "stream",
     "text": [
      "100%|██████████| 726/726 [01:31<00:00,  7.92it/s]\n"
     ]
    },
    {
     "name": "stdout",
     "output_type": "stream",
     "text": [
      "Test Loss: 1.3668394812867661, Accuracy: 60.949959053489074\n",
      "Epoch 10\n"
     ]
    },
    {
     "name": "stderr",
     "output_type": "stream",
     "text": [
      "100%|██████████| 2901/2901 [15:09<00:00,  3.19it/s]\n"
     ]
    },
    {
     "name": "stdout",
     "output_type": "stream",
     "text": [
      "Train Loss: 0.8960632865735475\n"
     ]
    },
    {
     "name": "stderr",
     "output_type": "stream",
     "text": [
      "100%|██████████| 726/726 [01:32<00:00,  7.85it/s]\n"
     ]
    },
    {
     "name": "stdout",
     "output_type": "stream",
     "text": [
      "Test Loss: 1.3644437264066098, Accuracy: 60.678419033662344\n",
      "Epoch 11\n"
     ]
    },
    {
     "name": "stderr",
     "output_type": "stream",
     "text": [
      "100%|██████████| 2901/2901 [15:15<00:00,  3.17it/s]\n"
     ]
    },
    {
     "name": "stdout",
     "output_type": "stream",
     "text": [
      "Train Loss: 0.8810253038832913\n"
     ]
    },
    {
     "name": "stderr",
     "output_type": "stream",
     "text": [
      "100%|██████████| 726/726 [01:33<00:00,  7.76it/s]\n"
     ]
    },
    {
     "name": "stdout",
     "output_type": "stream",
     "text": [
      "Test Loss: 1.3553913240590372, Accuracy: 60.71721046506616\n",
      "Epoch 12\n"
     ]
    },
    {
     "name": "stderr",
     "output_type": "stream",
     "text": [
      "100%|██████████| 2901/2901 [15:20<00:00,  3.15it/s]\n"
     ]
    },
    {
     "name": "stdout",
     "output_type": "stream",
     "text": [
      "Train Loss: 0.8620052225155815\n"
     ]
    },
    {
     "name": "stderr",
     "output_type": "stream",
     "text": [
      "100%|██████████| 726/726 [01:30<00:00,  8.01it/s]\n"
     ]
    },
    {
     "name": "stdout",
     "output_type": "stream",
     "text": [
      "Test Loss: 1.287482999244669, Accuracy: 61.958536269988365\n",
      "Epoch 13\n"
     ]
    },
    {
     "name": "stderr",
     "output_type": "stream",
     "text": [
      "100%|██████████| 2901/2901 [15:09<00:00,  3.19it/s]\n"
     ]
    },
    {
     "name": "stdout",
     "output_type": "stream",
     "text": [
      "Train Loss: 0.845609387511921\n"
     ]
    },
    {
     "name": "stderr",
     "output_type": "stream",
     "text": [
      "100%|██████████| 726/726 [01:32<00:00,  7.83it/s]\n"
     ]
    },
    {
     "name": "stdout",
     "output_type": "stream",
     "text": [
      "Test Loss: 1.4490600350228222, Accuracy: 60.35946726434205\n",
      "Epoch 14\n"
     ]
    },
    {
     "name": "stderr",
     "output_type": "stream",
     "text": [
      "100%|██████████| 2901/2901 [15:15<00:00,  3.17it/s]\n"
     ]
    },
    {
     "name": "stdout",
     "output_type": "stream",
     "text": [
      "Train Loss: 0.8290279850348322\n"
     ]
    },
    {
     "name": "stderr",
     "output_type": "stream",
     "text": [
      "100%|██████████| 726/726 [01:36<00:00,  7.53it/s]\n"
     ]
    },
    {
     "name": "stdout",
     "output_type": "stream",
     "text": [
      "Test Loss: 1.3484457275591606, Accuracy: 62.26886772121891\n",
      "Epoch 15\n"
     ]
    },
    {
     "name": "stderr",
     "output_type": "stream",
     "text": [
      "100%|██████████| 2901/2901 [15:12<00:00,  3.18it/s]\n"
     ]
    },
    {
     "name": "stdout",
     "output_type": "stream",
     "text": [
      "Train Loss: 0.8145340183548827\n"
     ]
    },
    {
     "name": "stderr",
     "output_type": "stream",
     "text": [
      "100%|██████████| 726/726 [01:34<00:00,  7.67it/s]\n"
     ]
    },
    {
     "name": "stdout",
     "output_type": "stream",
     "text": [
      "Test Loss: 1.294868934909831, Accuracy: 63.130899530192664\n",
      "Epoch 16\n"
     ]
    },
    {
     "name": "stderr",
     "output_type": "stream",
     "text": [
      "100%|██████████| 2901/2901 [15:13<00:00,  3.18it/s]\n"
     ]
    },
    {
     "name": "stdout",
     "output_type": "stream",
     "text": [
      "Train Loss: 0.7965203226639952\n"
     ]
    },
    {
     "name": "stderr",
     "output_type": "stream",
     "text": [
      "100%|██████████| 726/726 [01:33<00:00,  7.78it/s]\n"
     ]
    },
    {
     "name": "stdout",
     "output_type": "stream",
     "text": [
      "Test Loss: 1.3278530860324864, Accuracy: 62.29472867548812\n",
      "Epoch 17\n"
     ]
    },
    {
     "name": "stderr",
     "output_type": "stream",
     "text": [
      "100%|██████████| 2901/2901 [15:15<00:00,  3.17it/s]\n"
     ]
    },
    {
     "name": "stdout",
     "output_type": "stream",
     "text": [
      "Train Loss: 0.7809749720056317\n"
     ]
    },
    {
     "name": "stderr",
     "output_type": "stream",
     "text": [
      "100%|██████████| 726/726 [01:31<00:00,  7.94it/s]\n"
     ]
    },
    {
     "name": "stdout",
     "output_type": "stream",
     "text": [
      "Test Loss: 1.3749777219019645, Accuracy: 62.16542390414206\n",
      "Epoch 18\n"
     ]
    },
    {
     "name": "stderr",
     "output_type": "stream",
     "text": [
      "100%|██████████| 2901/2901 [15:11<00:00,  3.18it/s]\n"
     ]
    },
    {
     "name": "stdout",
     "output_type": "stream",
     "text": [
      "Train Loss: 0.7681955712411125\n"
     ]
    },
    {
     "name": "stderr",
     "output_type": "stream",
     "text": [
      "100%|██████████| 726/726 [01:31<00:00,  7.91it/s]\n"
     ]
    },
    {
     "name": "stdout",
     "output_type": "stream",
     "text": [
      "Test Loss: 1.375300587044603, Accuracy: 61.81630102150769\n",
      "Epoch 19\n"
     ]
    },
    {
     "name": "stderr",
     "output_type": "stream",
     "text": [
      "100%|██████████| 2901/2901 [15:12<00:00,  3.18it/s]\n"
     ]
    },
    {
     "name": "stdout",
     "output_type": "stream",
     "text": [
      "Train Loss: 0.7506349904501861\n"
     ]
    },
    {
     "name": "stderr",
     "output_type": "stream",
     "text": [
      "100%|██████████| 726/726 [01:31<00:00,  7.90it/s]\n"
     ]
    },
    {
     "name": "stdout",
     "output_type": "stream",
     "text": [
      "Test Loss: 1.4458212725428181, Accuracy: 63.393819231929655\n",
      "Epoch 20\n"
     ]
    },
    {
     "name": "stderr",
     "output_type": "stream",
     "text": [
      "100%|██████████| 2901/2901 [15:13<00:00,  3.18it/s]\n"
     ]
    },
    {
     "name": "stdout",
     "output_type": "stream",
     "text": [
      "Train Loss: 0.7362199015388896\n"
     ]
    },
    {
     "name": "stderr",
     "output_type": "stream",
     "text": [
      "100%|██████████| 726/726 [01:32<00:00,  7.86it/s]\n"
     ]
    },
    {
     "name": "stdout",
     "output_type": "stream",
     "text": [
      "Test Loss: 1.4028292325820477, Accuracy: 62.863669669410804\n",
      "Epoch 21\n"
     ]
    },
    {
     "name": "stderr",
     "output_type": "stream",
     "text": [
      "100%|██████████| 2901/2901 [15:10<00:00,  3.18it/s]\n"
     ]
    },
    {
     "name": "stdout",
     "output_type": "stream",
     "text": [
      "Train Loss: 0.7200810335825657\n"
     ]
    },
    {
     "name": "stderr",
     "output_type": "stream",
     "text": [
      "100%|██████████| 726/726 [01:33<00:00,  7.77it/s]\n"
     ]
    },
    {
     "name": "stdout",
     "output_type": "stream",
     "text": [
      "Test Loss: 1.426847750490362, Accuracy: 62.69557346666092\n",
      "Epoch 22\n"
     ]
    },
    {
     "name": "stderr",
     "output_type": "stream",
     "text": [
      "100%|██████████| 2901/2901 [15:16<00:00,  3.17it/s]\n"
     ]
    },
    {
     "name": "stdout",
     "output_type": "stream",
     "text": [
      "Train Loss: 0.7063657639458935\n"
     ]
    },
    {
     "name": "stderr",
     "output_type": "stream",
     "text": [
      "100%|██████████| 726/726 [01:35<00:00,  7.63it/s]\n"
     ]
    },
    {
     "name": "stdout",
     "output_type": "stream",
     "text": [
      "Test Loss: 1.4502108799031943, Accuracy: 62.28610835739839\n",
      "Epoch 23\n"
     ]
    },
    {
     "name": "stderr",
     "output_type": "stream",
     "text": [
      "100%|██████████| 2901/2901 [15:13<00:00,  3.17it/s]\n"
     ]
    },
    {
     "name": "stdout",
     "output_type": "stream",
     "text": [
      "Train Loss: 0.6888736269517999\n"
     ]
    },
    {
     "name": "stderr",
     "output_type": "stream",
     "text": [
      "100%|██████████| 726/726 [01:32<00:00,  7.85it/s]\n"
     ]
    },
    {
     "name": "stdout",
     "output_type": "stream",
     "text": [
      "Test Loss: 1.4406594608194572, Accuracy: 62.79901728373777\n",
      "Epoch 24\n"
     ]
    },
    {
     "name": "stderr",
     "output_type": "stream",
     "text": [
      "100%|██████████| 2901/2901 [15:14<00:00,  3.17it/s]\n"
     ]
    },
    {
     "name": "stdout",
     "output_type": "stream",
     "text": [
      "Train Loss: 0.6791201755430155\n"
     ]
    },
    {
     "name": "stderr",
     "output_type": "stream",
     "text": [
      "100%|██████████| 726/726 [01:31<00:00,  7.95it/s]\n"
     ]
    },
    {
     "name": "stdout",
     "output_type": "stream",
     "text": [
      "Test Loss: 1.5414045637591482, Accuracy: 62.53178742295591\n",
      "Epoch 25\n"
     ]
    },
    {
     "name": "stderr",
     "output_type": "stream",
     "text": [
      "100%|██████████| 2901/2901 [15:17<00:00,  3.16it/s]\n"
     ]
    },
    {
     "name": "stdout",
     "output_type": "stream",
     "text": [
      "Train Loss: 0.66138602537416\n"
     ]
    },
    {
     "name": "stderr",
     "output_type": "stream",
     "text": [
      "100%|██████████| 726/726 [01:30<00:00,  7.98it/s]\n"
     ]
    },
    {
     "name": "stdout",
     "output_type": "stream",
     "text": [
      "Test Loss: 1.4996483213891667, Accuracy: 63.0015947588466\n",
      "Epoch 26\n"
     ]
    },
    {
     "name": "stderr",
     "output_type": "stream",
     "text": [
      "100%|██████████| 2901/2901 [15:16<00:00,  3.17it/s]\n"
     ]
    },
    {
     "name": "stdout",
     "output_type": "stream",
     "text": [
      "Train Loss: 0.6498614293014292\n"
     ]
    },
    {
     "name": "stderr",
     "output_type": "stream",
     "text": [
      "100%|██████████| 726/726 [01:31<00:00,  7.98it/s]\n"
     ]
    },
    {
     "name": "stdout",
     "output_type": "stream",
     "text": [
      "Test Loss: 1.5028258647882577, Accuracy: 62.863669669410804\n",
      "Epoch 27\n"
     ]
    },
    {
     "name": "stderr",
     "output_type": "stream",
     "text": [
      "100%|██████████| 2901/2901 [15:12<00:00,  3.18it/s]\n"
     ]
    },
    {
     "name": "stdout",
     "output_type": "stream",
     "text": [
      "Train Loss: 0.6370408145344204\n"
     ]
    },
    {
     "name": "stderr",
     "output_type": "stream",
     "text": [
      "100%|██████████| 726/726 [01:31<00:00,  7.97it/s]\n"
     ]
    },
    {
     "name": "stdout",
     "output_type": "stream",
     "text": [
      "Test Loss: 1.5096620853897953, Accuracy: 62.72143442093013\n",
      "Epoch 28\n"
     ]
    },
    {
     "name": "stderr",
     "output_type": "stream",
     "text": [
      "100%|██████████| 2901/2901 [15:12<00:00,  3.18it/s]\n"
     ]
    },
    {
     "name": "stdout",
     "output_type": "stream",
     "text": [
      "Train Loss: 0.623176160859511\n"
     ]
    },
    {
     "name": "stderr",
     "output_type": "stream",
     "text": [
      "100%|██████████| 726/726 [01:30<00:00,  8.05it/s]\n"
     ]
    },
    {
     "name": "stdout",
     "output_type": "stream",
     "text": [
      "Test Loss: 1.5724494867745182, Accuracy: 62.54471790009051\n",
      "Epoch 29\n"
     ]
    },
    {
     "name": "stderr",
     "output_type": "stream",
     "text": [
      "100%|██████████| 2901/2901 [15:13<00:00,  3.18it/s]\n"
     ]
    },
    {
     "name": "stdout",
     "output_type": "stream",
     "text": [
      "Train Loss: 0.6076582055160071\n"
     ]
    },
    {
     "name": "stderr",
     "output_type": "stream",
     "text": [
      "100%|██████████| 726/726 [01:30<00:00,  8.02it/s]\n"
     ]
    },
    {
     "name": "stdout",
     "output_type": "stream",
     "text": [
      "Test Loss: 1.641739511210728, Accuracy: 61.9671565880781\n",
      "Epoch 30\n"
     ]
    },
    {
     "name": "stderr",
     "output_type": "stream",
     "text": [
      "100%|██████████| 2901/2901 [15:11<00:00,  3.18it/s]\n"
     ]
    },
    {
     "name": "stdout",
     "output_type": "stream",
     "text": [
      "Train Loss: 0.5941098445563512\n"
     ]
    },
    {
     "name": "stderr",
     "output_type": "stream",
     "text": [
      "100%|██████████| 726/726 [01:31<00:00,  7.92it/s]"
     ]
    },
    {
     "name": "stdout",
     "output_type": "stream",
     "text": [
      "Test Loss: 1.5748681583680397, Accuracy: 62.574889013404594\n"
     ]
    },
    {
     "name": "stderr",
     "output_type": "stream",
     "text": [
      "\n"
     ]
    }
   ],
   "source": [
    "for epoch in range(30):\n",
    "    print(f\"Epoch {epoch + 1}\")\n",
    "    model, iterations = train(model, train_loader, criterion, optimizer, device, epoch, summary, iterations)\n",
    "    accuracy = test(model, test_loader, criterion, device, epoch, summary)\n",
    "    if accuracy > best_accuracy:\n",
    "        best_accuracy = accuracy\n",
    "        torch.save(model.state_dict(), \"model.pth\")"
   ]
  },
  {
   "cell_type": "code",
   "execution_count": 19,
   "metadata": {},
   "outputs": [
    {
     "name": "stdout",
     "output_type": "stream",
     "text": [
      "Epoch 1\n"
     ]
    },
    {
     "name": "stderr",
     "output_type": "stream",
     "text": [
      "100%|██████████| 2901/2901 [15:13<00:00,  3.18it/s]\n"
     ]
    },
    {
     "name": "stdout",
     "output_type": "stream",
     "text": [
      "Train Loss: 0.5841842094029858\n"
     ]
    },
    {
     "name": "stderr",
     "output_type": "stream",
     "text": [
      "100%|██████████| 726/726 [01:31<00:00,  7.94it/s]\n"
     ]
    },
    {
     "name": "stdout",
     "output_type": "stream",
     "text": [
      "Test Loss: 1.574741728583315, Accuracy: 63.10934873496832\n",
      "Epoch 2\n"
     ]
    },
    {
     "name": "stderr",
     "output_type": "stream",
     "text": [
      "100%|██████████| 2901/2901 [15:17<00:00,  3.16it/s]\n"
     ]
    },
    {
     "name": "stdout",
     "output_type": "stream",
     "text": [
      "Train Loss: 0.5704419449952831\n"
     ]
    },
    {
     "name": "stderr",
     "output_type": "stream",
     "text": [
      "100%|██████████| 726/726 [01:31<00:00,  7.93it/s]\n"
     ]
    },
    {
     "name": "stdout",
     "output_type": "stream",
     "text": [
      "Test Loss: 1.6124020591172963, Accuracy: 63.21710271109004\n",
      "Epoch 3\n"
     ]
    },
    {
     "name": "stderr",
     "output_type": "stream",
     "text": [
      "100%|██████████| 2901/2901 [15:12<00:00,  3.18it/s]\n"
     ]
    },
    {
     "name": "stdout",
     "output_type": "stream",
     "text": [
      "Train Loss: 0.5575335187897194\n"
     ]
    },
    {
     "name": "stderr",
     "output_type": "stream",
     "text": [
      "100%|██████████| 726/726 [01:30<00:00,  8.03it/s]\n"
     ]
    },
    {
     "name": "stdout",
     "output_type": "stream",
     "text": [
      "Test Loss: 1.6218958239253232, Accuracy: 63.46709193569243\n",
      "Epoch 4\n"
     ]
    },
    {
     "name": "stderr",
     "output_type": "stream",
     "text": [
      "100%|██████████| 2901/2901 [15:07<00:00,  3.20it/s]\n"
     ]
    },
    {
     "name": "stdout",
     "output_type": "stream",
     "text": [
      "Train Loss: 0.5435561933925505\n"
     ]
    },
    {
     "name": "stderr",
     "output_type": "stream",
     "text": [
      "100%|██████████| 726/726 [01:30<00:00,  8.02it/s]\n"
     ]
    },
    {
     "name": "stdout",
     "output_type": "stream",
     "text": [
      "Test Loss: 1.6054723077240727, Accuracy: 63.2774449377182\n",
      "Epoch 5\n"
     ]
    },
    {
     "name": "stderr",
     "output_type": "stream",
     "text": [
      "100%|██████████| 2901/2901 [15:30<00:00,  3.12it/s]\n"
     ]
    },
    {
     "name": "stdout",
     "output_type": "stream",
     "text": [
      "Train Loss: 0.5321687847550512\n"
     ]
    },
    {
     "name": "stderr",
     "output_type": "stream",
     "text": [
      "100%|██████████| 726/726 [01:36<00:00,  7.55it/s]\n"
     ]
    },
    {
     "name": "stdout",
     "output_type": "stream",
     "text": [
      "Test Loss: 1.654402204288924, Accuracy: 62.587819490539204\n",
      "Epoch 6\n"
     ]
    },
    {
     "name": "stderr",
     "output_type": "stream",
     "text": [
      "100%|██████████| 2901/2901 [15:15<00:00,  3.17it/s]\n"
     ]
    },
    {
     "name": "stdout",
     "output_type": "stream",
     "text": [
      "Train Loss: 0.5229305098207603\n"
     ]
    },
    {
     "name": "stderr",
     "output_type": "stream",
     "text": [
      "100%|██████████| 726/726 [01:31<00:00,  7.93it/s]\n"
     ]
    },
    {
     "name": "stdout",
     "output_type": "stream",
     "text": [
      "Test Loss: 1.7675459911487483, Accuracy: 62.574889013404594\n",
      "Epoch 7\n"
     ]
    },
    {
     "name": "stderr",
     "output_type": "stream",
     "text": [
      "100%|██████████| 2901/2901 [15:27<00:00,  3.13it/s]\n"
     ]
    },
    {
     "name": "stdout",
     "output_type": "stream",
     "text": [
      "Train Loss: 0.5102772527971131\n"
     ]
    },
    {
     "name": "stderr",
     "output_type": "stream",
     "text": [
      "100%|██████████| 726/726 [01:33<00:00,  7.79it/s]\n"
     ]
    },
    {
     "name": "stdout",
     "output_type": "stream",
     "text": [
      "Test Loss: 1.75020331283903, Accuracy: 62.80332744278264\n",
      "Epoch 8\n"
     ]
    },
    {
     "name": "stderr",
     "output_type": "stream",
     "text": [
      "100%|██████████| 2901/2901 [15:13<00:00,  3.18it/s]\n"
     ]
    },
    {
     "name": "stdout",
     "output_type": "stream",
     "text": [
      "Train Loss: 0.5003935639373766\n"
     ]
    },
    {
     "name": "stderr",
     "output_type": "stream",
     "text": [
      "100%|██████████| 726/726 [01:31<00:00,  7.92it/s]\n"
     ]
    },
    {
     "name": "stdout",
     "output_type": "stream",
     "text": [
      "Test Loss: 1.7361015405290383, Accuracy: 62.850739192276194\n",
      "Epoch 9\n"
     ]
    },
    {
     "name": "stderr",
     "output_type": "stream",
     "text": [
      "100%|██████████| 2901/2901 [15:17<00:00,  3.16it/s]\n"
     ]
    },
    {
     "name": "stdout",
     "output_type": "stream",
     "text": [
      "Train Loss: 0.48540374629972555\n"
     ]
    },
    {
     "name": "stderr",
     "output_type": "stream",
     "text": [
      "100%|██████████| 726/726 [01:30<00:00,  7.99it/s]\n"
     ]
    },
    {
     "name": "stdout",
     "output_type": "stream",
     "text": [
      "Test Loss: 1.6879902401164215, Accuracy: 63.316236369122024\n",
      "Epoch 10\n"
     ]
    },
    {
     "name": "stderr",
     "output_type": "stream",
     "text": [
      "100%|██████████| 2901/2901 [15:11<00:00,  3.18it/s]\n"
     ]
    },
    {
     "name": "stdout",
     "output_type": "stream",
     "text": [
      "Train Loss: 0.4764779852186347\n"
     ]
    },
    {
     "name": "stderr",
     "output_type": "stream",
     "text": [
      "100%|██████████| 726/726 [01:31<00:00,  7.90it/s]\n"
     ]
    },
    {
     "name": "stdout",
     "output_type": "stream",
     "text": [
      "Test Loss: 1.764539520230565, Accuracy: 62.2430067669497\n",
      "Epoch 11\n"
     ]
    },
    {
     "name": "stderr",
     "output_type": "stream",
     "text": [
      "100%|██████████| 2901/2901 [15:11<00:00,  3.18it/s]\n"
     ]
    },
    {
     "name": "stdout",
     "output_type": "stream",
     "text": [
      "Train Loss: 0.46535194102226557\n"
     ]
    },
    {
     "name": "stderr",
     "output_type": "stream",
     "text": [
      "100%|██████████| 726/726 [01:33<00:00,  7.73it/s]\n"
     ]
    },
    {
     "name": "stdout",
     "output_type": "stream",
     "text": [
      "Test Loss: 1.729557144006627, Accuracy: 62.967113486487655\n",
      "Epoch 12\n"
     ]
    },
    {
     "name": "stderr",
     "output_type": "stream",
     "text": [
      "100%|██████████| 2901/2901 [15:14<00:00,  3.17it/s]\n"
     ]
    },
    {
     "name": "stdout",
     "output_type": "stream",
     "text": [
      "Train Loss: 0.45684047246217646\n"
     ]
    },
    {
     "name": "stderr",
     "output_type": "stream",
     "text": [
      "100%|██████████| 726/726 [01:29<00:00,  8.07it/s]\n"
     ]
    },
    {
     "name": "stdout",
     "output_type": "stream",
     "text": [
      "Test Loss: 1.8249542707007778, Accuracy: 62.36369122020603\n",
      "Epoch 13\n"
     ]
    },
    {
     "name": "stderr",
     "output_type": "stream",
     "text": [
      "100%|██████████| 2901/2901 [15:12<00:00,  3.18it/s]\n"
     ]
    },
    {
     "name": "stdout",
     "output_type": "stream",
     "text": [
      "Train Loss: 0.44226976285275404\n"
     ]
    },
    {
     "name": "stderr",
     "output_type": "stream",
     "text": [
      "100%|██████████| 726/726 [01:31<00:00,  7.95it/s]\n"
     ]
    },
    {
     "name": "stdout",
     "output_type": "stream",
     "text": [
      "Test Loss: 1.6902453749550932, Accuracy: 63.65242877462178\n",
      "Epoch 14\n"
     ]
    },
    {
     "name": "stderr",
     "output_type": "stream",
     "text": [
      "100%|██████████| 2901/2901 [15:10<00:00,  3.19it/s]\n"
     ]
    },
    {
     "name": "stdout",
     "output_type": "stream",
     "text": [
      "Train Loss: 0.4369557541311917\n"
     ]
    },
    {
     "name": "stderr",
     "output_type": "stream",
     "text": [
      "100%|██████████| 726/726 [01:30<00:00,  8.01it/s]\n"
     ]
    },
    {
     "name": "stdout",
     "output_type": "stream",
     "text": [
      "Test Loss: 1.838951381441647, Accuracy: 61.83354165768717\n",
      "Epoch 15\n"
     ]
    },
    {
     "name": "stderr",
     "output_type": "stream",
     "text": [
      "100%|██████████| 2901/2901 [15:18<00:00,  3.16it/s]\n"
     ]
    },
    {
     "name": "stdout",
     "output_type": "stream",
     "text": [
      "Train Loss: 0.43023958494543246\n"
     ]
    },
    {
     "name": "stderr",
     "output_type": "stream",
     "text": [
      "100%|██████████| 726/726 [01:32<00:00,  7.89it/s]\n"
     ]
    },
    {
     "name": "stdout",
     "output_type": "stream",
     "text": [
      "Test Loss: 1.8583025800130912, Accuracy: 62.52316710486617\n",
      "Epoch 16\n"
     ]
    },
    {
     "name": "stderr",
     "output_type": "stream",
     "text": [
      "100%|██████████| 2901/2901 [15:13<00:00,  3.17it/s]\n"
     ]
    },
    {
     "name": "stdout",
     "output_type": "stream",
     "text": [
      "Train Loss: 0.4164440942474251\n"
     ]
    },
    {
     "name": "stderr",
     "output_type": "stream",
     "text": [
      "100%|██████████| 726/726 [01:31<00:00,  7.97it/s]\n"
     ]
    },
    {
     "name": "stdout",
     "output_type": "stream",
     "text": [
      "Test Loss: 1.8575779050999108, Accuracy: 63.26020430153873\n",
      "Epoch 17\n"
     ]
    },
    {
     "name": "stderr",
     "output_type": "stream",
     "text": [
      "100%|██████████| 2901/2901 [15:21<00:00,  3.15it/s]\n"
     ]
    },
    {
     "name": "stdout",
     "output_type": "stream",
     "text": [
      "Train Loss: 0.4069580955675494\n"
     ]
    },
    {
     "name": "stderr",
     "output_type": "stream",
     "text": [
      "100%|██████████| 726/726 [01:29<00:00,  8.07it/s]\n"
     ]
    },
    {
     "name": "stdout",
     "output_type": "stream",
     "text": [
      "Test Loss: 1.9286355537570212, Accuracy: 62.337830265936816\n",
      "Epoch 18\n"
     ]
    },
    {
     "name": "stderr",
     "output_type": "stream",
     "text": [
      "100%|██████████| 2901/2901 [15:12<00:00,  3.18it/s]\n"
     ]
    },
    {
     "name": "stdout",
     "output_type": "stream",
     "text": [
      "Train Loss: 0.3958651038237951\n"
     ]
    },
    {
     "name": "stderr",
     "output_type": "stream",
     "text": [
      "100%|██████████| 726/726 [01:32<00:00,  7.81it/s]\n"
     ]
    },
    {
     "name": "stdout",
     "output_type": "stream",
     "text": [
      "Test Loss: 1.9415915090354678, Accuracy: 62.842118874186454\n",
      "Epoch 19\n"
     ]
    },
    {
     "name": "stderr",
     "output_type": "stream",
     "text": [
      "100%|██████████| 2901/2901 [15:13<00:00,  3.18it/s]\n"
     ]
    },
    {
     "name": "stdout",
     "output_type": "stream",
     "text": [
      "Train Loss: 0.38871323414498754\n"
     ]
    },
    {
     "name": "stderr",
     "output_type": "stream",
     "text": [
      "100%|██████████| 726/726 [01:36<00:00,  7.56it/s]\n"
     ]
    },
    {
     "name": "stdout",
     "output_type": "stream",
     "text": [
      "Test Loss: 1.9688646134474, Accuracy: 63.00590491789147\n",
      "Epoch 20\n"
     ]
    },
    {
     "name": "stderr",
     "output_type": "stream",
     "text": [
      "100%|██████████| 2901/2901 [15:16<00:00,  3.16it/s]\n"
     ]
    },
    {
     "name": "stdout",
     "output_type": "stream",
     "text": [
      "Train Loss: 0.37920100117209493\n"
     ]
    },
    {
     "name": "stderr",
     "output_type": "stream",
     "text": [
      "100%|██████████| 726/726 [01:30<00:00,  8.04it/s]\n"
     ]
    },
    {
     "name": "stdout",
     "output_type": "stream",
     "text": [
      "Test Loss: 2.0810656687116493, Accuracy: 61.65251497780268\n",
      "Epoch 21\n"
     ]
    },
    {
     "name": "stderr",
     "output_type": "stream",
     "text": [
      "100%|██████████| 2901/2901 [15:14<00:00,  3.17it/s]\n"
     ]
    },
    {
     "name": "stdout",
     "output_type": "stream",
     "text": [
      "Train Loss: 0.37289904823583886\n"
     ]
    },
    {
     "name": "stderr",
     "output_type": "stream",
     "text": [
      "100%|██████████| 726/726 [01:31<00:00,  7.91it/s]\n"
     ]
    },
    {
     "name": "stdout",
     "output_type": "stream",
     "text": [
      "Test Loss: 1.855735930775808, Accuracy: 62.5188569458213\n",
      "Epoch 22\n"
     ]
    },
    {
     "name": "stderr",
     "output_type": "stream",
     "text": [
      "100%|██████████| 2901/2901 [15:12<00:00,  3.18it/s]\n"
     ]
    },
    {
     "name": "stdout",
     "output_type": "stream",
     "text": [
      "Train Loss: 0.3641731788329485\n"
     ]
    },
    {
     "name": "stderr",
     "output_type": "stream",
     "text": [
      "100%|██████████| 726/726 [01:32<00:00,  7.88it/s]\n"
     ]
    },
    {
     "name": "stdout",
     "output_type": "stream",
     "text": [
      "Test Loss: 2.043836662920382, Accuracy: 62.37231153829576\n",
      "Epoch 23\n"
     ]
    },
    {
     "name": "stderr",
     "output_type": "stream",
     "text": [
      "100%|██████████| 2901/2901 [15:12<00:00,  3.18it/s]\n"
     ]
    },
    {
     "name": "stdout",
     "output_type": "stream",
     "text": [
      "Train Loss: 0.35301943851319606\n"
     ]
    },
    {
     "name": "stderr",
     "output_type": "stream",
     "text": [
      "100%|██████████| 726/726 [01:30<00:00,  8.00it/s]\n"
     ]
    },
    {
     "name": "stdout",
     "output_type": "stream",
     "text": [
      "Test Loss: 2.0979382489133145, Accuracy: 63.75587259169863\n",
      "Epoch 24\n"
     ]
    },
    {
     "name": "stderr",
     "output_type": "stream",
     "text": [
      "100%|██████████| 2901/2901 [15:12<00:00,  3.18it/s]\n"
     ]
    },
    {
     "name": "stdout",
     "output_type": "stream",
     "text": [
      "Train Loss: 0.348063370968629\n"
     ]
    },
    {
     "name": "stderr",
     "output_type": "stream",
     "text": [
      "100%|██████████| 726/726 [01:30<00:00,  8.02it/s]\n"
     ]
    },
    {
     "name": "stdout",
     "output_type": "stream",
     "text": [
      "Test Loss: 1.9430203689852366, Accuracy: 64.07482436101893\n",
      "Epoch 25\n"
     ]
    },
    {
     "name": "stderr",
     "output_type": "stream",
     "text": [
      "100%|██████████| 2901/2901 [15:15<00:00,  3.17it/s]\n"
     ]
    },
    {
     "name": "stdout",
     "output_type": "stream",
     "text": [
      "Train Loss: 0.3407567353576925\n"
     ]
    },
    {
     "name": "stderr",
     "output_type": "stream",
     "text": [
      "100%|██████████| 726/726 [01:30<00:00,  8.06it/s]\n"
     ]
    },
    {
     "name": "stdout",
     "output_type": "stream",
     "text": [
      "Test Loss: 2.115215538726406, Accuracy: 62.35507090211629\n",
      "Epoch 26\n"
     ]
    },
    {
     "name": "stderr",
     "output_type": "stream",
     "text": [
      "100%|██████████| 2901/2901 [15:13<00:00,  3.18it/s]\n"
     ]
    },
    {
     "name": "stdout",
     "output_type": "stream",
     "text": [
      "Train Loss: 0.33419982180184266\n"
     ]
    },
    {
     "name": "stderr",
     "output_type": "stream",
     "text": [
      "100%|██████████| 726/726 [01:30<00:00,  8.04it/s]\n"
     ]
    },
    {
     "name": "stdout",
     "output_type": "stream",
     "text": [
      "Test Loss: 2.039065026547298, Accuracy: 63.333477005301496\n",
      "Epoch 27\n"
     ]
    },
    {
     "name": "stderr",
     "output_type": "stream",
     "text": [
      "100%|██████████| 2901/2901 [15:10<00:00,  3.19it/s]\n"
     ]
    },
    {
     "name": "stdout",
     "output_type": "stream",
     "text": [
      "Train Loss: 0.32518909942976404\n"
     ]
    },
    {
     "name": "stderr",
     "output_type": "stream",
     "text": [
      "100%|██████████| 726/726 [01:31<00:00,  7.98it/s]\n"
     ]
    },
    {
     "name": "stdout",
     "output_type": "stream",
     "text": [
      "Test Loss: 2.0296253873132803, Accuracy: 63.24727382440412\n",
      "Epoch 28\n"
     ]
    },
    {
     "name": "stderr",
     "output_type": "stream",
     "text": [
      "100%|██████████| 2901/2901 [15:13<00:00,  3.18it/s]\n"
     ]
    },
    {
     "name": "stdout",
     "output_type": "stream",
     "text": [
      "Train Loss: 0.3185634356260464\n"
     ]
    },
    {
     "name": "stderr",
     "output_type": "stream",
     "text": [
      "100%|██████████| 726/726 [01:30<00:00,  8.04it/s]\n"
     ]
    },
    {
     "name": "stdout",
     "output_type": "stream",
     "text": [
      "Test Loss: 2.1329430344183584, Accuracy: 62.09215120037929\n",
      "Epoch 29\n"
     ]
    },
    {
     "name": "stderr",
     "output_type": "stream",
     "text": [
      "100%|██████████| 2901/2901 [15:09<00:00,  3.19it/s]\n"
     ]
    },
    {
     "name": "stdout",
     "output_type": "stream",
     "text": [
      "Train Loss: 0.3135327958443768\n"
     ]
    },
    {
     "name": "stderr",
     "output_type": "stream",
     "text": [
      "100%|██████████| 726/726 [01:33<00:00,  7.72it/s]\n"
     ]
    },
    {
     "name": "stdout",
     "output_type": "stream",
     "text": [
      "Test Loss: 2.167870124591612, Accuracy: 61.93698547476402\n",
      "Epoch 30\n"
     ]
    },
    {
     "name": "stderr",
     "output_type": "stream",
     "text": [
      "100%|██████████| 2901/2901 [15:16<00:00,  3.16it/s]\n"
     ]
    },
    {
     "name": "stdout",
     "output_type": "stream",
     "text": [
      "Train Loss: 0.30488706763316253\n"
     ]
    },
    {
     "name": "stderr",
     "output_type": "stream",
     "text": [
      "100%|██████████| 726/726 [01:33<00:00,  7.74it/s]"
     ]
    },
    {
     "name": "stdout",
     "output_type": "stream",
     "text": [
      "Test Loss: 2.082339142974833, Accuracy: 63.59639670703849\n"
     ]
    },
    {
     "name": "stderr",
     "output_type": "stream",
     "text": [
      "\n"
     ]
    }
   ],
   "source": [
    "for epoch in range(30):\n",
    "    print(f\"Epoch {epoch + 1}\")\n",
    "    model, iterations = train(model, train_loader, criterion, optimizer, device, epoch, summary, iterations)\n",
    "    accuracy = test(model, test_loader, criterion, device, epoch, summary)\n",
    "    if accuracy > best_accuracy:\n",
    "        best_accuracy = accuracy\n",
    "        torch.save(model.state_dict(), \"model.pth\")"
   ]
  },
  {
   "cell_type": "code",
   "execution_count": 20,
   "metadata": {},
   "outputs": [
    {
     "name": "stderr",
     "output_type": "stream",
     "text": [
      "100%|██████████| 726/726 [01:34<00:00,  7.70it/s]"
     ]
    },
    {
     "name": "stdout",
     "output_type": "stream",
     "text": [
      "Test Loss: 1.9430203689852366, Accuracy: 64.07482436101893\n"
     ]
    },
    {
     "name": "stderr",
     "output_type": "stream",
     "text": [
      "\n"
     ]
    },
    {
     "data": {
      "text/plain": [
       "64.07482436101893"
      ]
     },
     "execution_count": 20,
     "metadata": {},
     "output_type": "execute_result"
    }
   ],
   "source": [
    "# load best model and check accuracy\n",
    "model.load_state_dict(torch.load(\"model.pth\"))\n",
    "test(model, test_loader, criterion, device, 0, summary)\n"
   ]
  },
  {
   "cell_type": "code",
   "execution_count": null,
   "metadata": {},
   "outputs": [],
   "source": []
  }
 ],
 "metadata": {
  "kernelspec": {
   "display_name": "Python 3 (ipykernel)",
   "language": "python",
   "name": "python3"
  },
  "language_info": {
   "codemirror_mode": {
    "name": "ipython",
    "version": 3
   },
   "file_extension": ".py",
   "mimetype": "text/x-python",
   "name": "python",
   "nbconvert_exporter": "python",
   "pygments_lexer": "ipython3",
   "version": "3.11.5"
  }
 },
 "nbformat": 4,
 "nbformat_minor": 4
}
